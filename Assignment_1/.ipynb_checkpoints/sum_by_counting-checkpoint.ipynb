{
 "cells": [
  {
   "cell_type": "code",
   "execution_count": 1,
   "metadata": {},
   "outputs": [
    {
     "ename": "ModuleNotFoundError",
     "evalue": "No module named 'model'",
     "output_type": "error",
     "traceback": [
      "\u001b[1;31m---------------------------------------------------------------------------\u001b[0m",
      "\u001b[1;31mModuleNotFoundError\u001b[0m                       Traceback (most recent call last)",
      "\u001b[1;32m<ipython-input-1-4a01992027f3>\u001b[0m in \u001b[0;36m<module>\u001b[1;34m\u001b[0m\n\u001b[1;32m----> 1\u001b[1;33m \u001b[1;32mfrom\u001b[0m \u001b[0mmodel\u001b[0m \u001b[1;32mimport\u001b[0m \u001b[0mModel\u001b[0m\u001b[1;33m\u001b[0m\u001b[1;33m\u001b[0m\u001b[0m\n\u001b[0m\u001b[0;32m      2\u001b[0m \u001b[1;32mfrom\u001b[0m \u001b[0mchunk\u001b[0m \u001b[1;32mimport\u001b[0m \u001b[0mChunk\u001b[0m\u001b[1;33m\u001b[0m\u001b[1;33m\u001b[0m\u001b[0m\n",
      "\u001b[1;31mModuleNotFoundError\u001b[0m: No module named 'model'"
     ]
    }
   ],
   "source": [
    "from model import Model\n",
    "from chunk import Chunk"
   ]
  },
  {
   "cell_type": "code",
   "execution_count": 2,
   "metadata": {},
   "outputs": [],
   "source": [
    "m = Model()"
   ]
  },
  {
   "cell_type": "code",
   "execution_count": 3,
   "metadata": {},
   "outputs": [
    {
     "name": "stdout",
     "output_type": "stream",
     "text": [
      "\n",
      "=== Model ===\n",
      "Time: 0 s \n",
      "Goal:None\n",
      "DM:\n",
      "\n"
     ]
    }
   ],
   "source": [
    "print(m)"
   ]
  },
  {
   "cell_type": "code",
   "execution_count": 4,
   "metadata": {},
   "outputs": [],
   "source": [
    "numbers = [\"zero\",\"one\",\"two\",\"three\",\"four\",\"five\",\"six\",\"seven\",\"eight\",\"nine\",\"ten\"]\n",
    "for i in range(0,len(numbers)-1):\n",
    "    fact = Chunk(name = \"cf\" + numbers[i], slots ={\"isa\":\"count-fact\", \"num1\": numbers[i], \"num2\" : numbers[i+1]})\n",
    "    m.add_encounter(fact)"
   ]
  },
  {
   "cell_type": "code",
   "execution_count": 11,
   "metadata": {},
   "outputs": [],
   "source": [
    "def sum_numbers(add1, add2):\n",
    "    goal = Chunk(name=\"goal\", slots={\"isa\": \"sum-goal\", \"sum\": add1, \"adder\": add2, \"current\": \"zero\"})\n",
    "    m.goal = goal\n",
    "    done = False\n",
    "    while goal.slots[\"current\"] != goal.slots[\"adder\"]:\n",
    "        # updating sum by counting\n",
    "        request_sum = Chunk(name = \"request\", slots = {\"isa\":\"count-fact\", \"num1\":goal.slots[\"sum\"]})\n",
    "        m.time += .05\n",
    "        chunk, latency = m.retrieve(request_sum)\n",
    "        m.add_encounter(chunk)\n",
    "        m.time += latency\n",
    "        goal.slots[\"sum\"] = chunk.slots[\"num2\"]\n",
    "        m.time += .3\n",
    "        # updating counter/current\n",
    "        request_curr = Chunk(name = \"request\", slots = {\"isa\":\"count-fact\", \"num1\":goal.slots[\"current\"]})\n",
    "        m.time += .05\n",
    "        chunk, latency = m.retrieve(request_curr)\n",
    "        m.add_encounter(chunk)\n",
    "        m.time += latency\n",
    "        goal.slots[\"current\"] = chunk.slots[\"num2\"]\n",
    "        m.time += .3        \n",
    "    print(goal.slots[\"sum\"])"
   ]
  },
  {
   "cell_type": "code",
   "execution_count": 13,
   "metadata": {},
   "outputs": [
    {
     "name": "stdout",
     "output_type": "stream",
     "text": [
      "seven\n"
     ]
    }
   ],
   "source": [
    "sum_numbers(\"two\", \"five\")"
   ]
  },
  {
   "cell_type": "code",
   "execution_count": null,
   "metadata": {},
   "outputs": [],
   "source": []
  }
 ],
 "metadata": {
  "kernelspec": {
   "display_name": "Python 3",
   "language": "python",
   "name": "python3"
  },
  "language_info": {
   "codemirror_mode": {
    "name": "ipython",
    "version": 3
   },
   "file_extension": ".py",
   "mimetype": "text/x-python",
   "name": "python",
   "nbconvert_exporter": "python",
   "pygments_lexer": "ipython3",
   "version": "3.8.0"
  }
 },
 "nbformat": 4,
 "nbformat_minor": 2
}
