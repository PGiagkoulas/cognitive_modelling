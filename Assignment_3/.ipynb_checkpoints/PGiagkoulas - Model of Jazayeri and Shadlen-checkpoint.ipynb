{
 "cells": [
  {
   "cell_type": "code",
   "execution_count": 1,
   "metadata": {},
   "outputs": [],
   "source": [
    "from model import Model\n",
    "from dmchunk import Chunk\n",
    "import math\n",
    "import statistics\n",
    "import random\n",
    "import pandas as pd\n",
    "import numpy as np\n",
    "import matplotlib.pyplot as plt"
   ]
  },
  {
   "cell_type": "code",
   "execution_count": 2,
   "metadata": {},
   "outputs": [],
   "source": [
    "# number of all trials (train and test)\n",
    "num_trials = 500\n",
    "# number of train trials\n",
    "num_train_trials = 50\n",
    "# number of subjects\n",
    "num_subjects = 15\n",
    "# fixed time between experiment trials (to represent the 1s + 0.25-0.85s in the Jazayeri & Shadlen paper)\n",
    "trial_break = 1.55"
   ]
  },
  {
   "cell_type": "code",
   "execution_count": 3,
   "metadata": {},
   "outputs": [
    {
     "name": "stdout",
     "output_type": "stream",
     "text": [
      "- Short durations are: \n",
      "[0.49409, 0.52938, 0.56467, 0.59996, 0.6352599999999999, 0.67055, 0.70584, 0.74113, 0.77642, 0.81172, 0.84701]\n",
      "- Medium durations are: \n",
      "[0.67055, 0.70584, 0.74113, 0.77642, 0.81172, 0.84701, 0.8823, 0.91759, 0.95288, 0.98818, 1.0235]\n",
      "- Long durations are: \n",
      "[0.84701, 0.8823, 0.91759, 0.95288, 0.98818, 1.0235, 1.0588, 1.0940999999999999, 1.1293, 1.1645999999999999, 1.1999000000000002]\n"
     ]
    }
   ],
   "source": [
    "# read data to get experiment intervals\n",
    "dat = pd.read_csv(\"dataJS.csv\")\n",
    "# get all discrete values and convert them to seconds (easier for model time keeping!)\n",
    "sorted_discrete_ts = [time_in_ms/1000 for time_in_ms in sorted(dat.Ts.unique())]\n",
    "# split into short, medium and long intervals\n",
    "short_ts = sorted_discrete_ts[:11]\n",
    "print(\"- Short durations are: \\n{0}\".format(short_ts))\n",
    "med_ts = sorted_discrete_ts[5:16]\n",
    "print(\"- Medium durations are: \\n{0}\".format(med_ts))\n",
    "long_ts = sorted_discrete_ts[-11:]\n",
    "print(\"- Long durations are: \\n{0}\".format(long_ts))"
   ]
  },
  {
   "cell_type": "code",
   "execution_count": 4,
   "metadata": {},
   "outputs": [],
   "source": [
    "# return sampled time from the given discrete intervals\n",
    "def sample_time(dur_times):\n",
    "    t = random.randrange(len(dur_times))\n",
    "    return dur_times[t]\n",
    "\n",
    "# helper to add noise \n",
    "def noise(s):\n",
    "    rand = random.uniform(0.001,0.999)\n",
    "    return s * math.log((1 - rand)/rand)\n",
    "\n",
    "# transition from time to pulses (storing)\n",
    "def time_to_pulses(time, t_0 = 0.011, a = 1.1, b = 0.015, add_noise = True):\n",
    "    pulses = 0\n",
    "    pulse_duration = t_0\n",
    "    while time >= pulse_duration:\n",
    "        time = time - pulse_duration\n",
    "        pulses = pulses + 1\n",
    "        pulse_duration = a * pulse_duration + add_noise * noise(b * a * pulse_duration)\n",
    "    return pulses\n",
    "\n",
    "# transition from pulses to time (reproduction)\n",
    "def pulses_to_time(pulses, t_0 = 0.011, a = 1.1, b = 0.015, add_noise = True):\n",
    "    time = 0\n",
    "    pulse_duration = t_0\n",
    "    while pulses > 0:\n",
    "        time = time + pulse_duration\n",
    "        pulses = pulses - 1\n",
    "        pulse_duration = a * pulse_duration + add_noise * noise(b * a * pulse_duration)\n",
    "    return time"
   ]
  },
  {
   "cell_type": "code",
   "execution_count": 5,
   "metadata": {},
   "outputs": [],
   "source": [
    "# alternative scenario in case of failed retrieval\n",
    "def default_case(pulses):\n",
    "    return random.randrange(pulses-3, pulses+4)"
   ]
  },
  {
   "cell_type": "code",
   "execution_count": 6,
   "metadata": {},
   "outputs": [],
   "source": [
    "# one trial of an experiment\n",
    "def experiment_trial(my_model, ts, trial):\n",
    "    # transform to pulses with added noise\n",
    "    tm_pulses = time_to_pulses(ts)\n",
    "    \n",
    "    # create and add chunk to DM\n",
    "    chunk = Chunk(name=\"memory_\"+str(tm_pulses), slots={\"type\": \"perception\", \"perceived_pulses\": tm_pulses})\n",
    "    my_model.add_encounter(chunk)\n",
    "    # increment time by presented interval\n",
    "    my_model.time += ts\n",
    "    \n",
    "    # retrieve with blended pulses\n",
    "    blend_pattern = Chunk(name=\"blend_pattern\", slots={\"type\": \"perception\"})\n",
    "    blended_retrieval, latency = my_model.retrieve_blended_trace(blend_pattern, \"perceived_pulses\")\n",
    "    # check for failed retieval\n",
    "    if blended_retrieval == None:\n",
    "        print(\"*** FAILED RETRIEVAL ***\")\n",
    "        blended_retrieval = default_case(tm_pulses)  # if retrieval failed get a random number of pulses close to the perceived one\n",
    "    # increment time by latency\n",
    "    my_model.time += latency\n",
    "    \n",
    "    # convert retrieved number of pulses back to time\n",
    "    tp = pulses_to_time(blended_retrieval)\n",
    "    # increment time by reproduced time\n",
    "    my_model.time += tp\n",
    "    \n",
    "    # return reproduced time\n",
    "    return tp"
   ]
  },
  {
   "cell_type": "code",
   "execution_count": 7,
   "metadata": {},
   "outputs": [],
   "source": [
    "# an experiment run given the number of test subjects, number of trials and the durations of interest\n",
    "def experiment(num_subjects, num_trials, dur_times, experiment_type):\n",
    "    results_df = pd.DataFrame(columns=['Subject', 'Ts', 'Tp', 'Cond'])  # dataframe to keep all experiment details\n",
    "    all_ts = []  # all the presented times\n",
    "    all_tp = []  # all the reproduced times\n",
    "    subj = []  #  list to add the subject\n",
    "    cond = []  # list to add the short/med/long experiemnt condition\n",
    "    \n",
    "    # go over all subjects\n",
    "    for subject in range(num_subjects):\n",
    "        my_model = Model()  # initialize model for each subject\n",
    "        my_model.rt = -5  # reduce threshold\n",
    "        \n",
    "        # complete the number of trials for each experiment\n",
    "        for trial in range(num_trials):\n",
    "            # increment time by the time-between-trials\n",
    "            my_model.time += trial_break\n",
    "            # uniformly random shown time\n",
    "            ts = sample_time(dur_times)\n",
    "            # carry out the experiment trial and get the reproduced time\n",
    "            tp = experiment_trial(my_model, ts, trial)\n",
    "            # store the experiment details\n",
    "            all_ts.append(ts)\n",
    "            all_tp.append(tp)\n",
    "            subj.append(subject)\n",
    "            cond.append(experiment_type)\n",
    "        \n",
    "        # add subject's results to a dataframe\n",
    "        my_dict = {'Subject': subj[num_train_trials:], 'Ts': all_ts[num_train_trials:], 'Tp': all_tp[num_train_trials:], 'Cond': cond[num_train_trials:]}\n",
    "        results_df = results_df.append(pd.DataFrame(my_dict))\n",
    "        \n",
    "    return results_df"
   ]
  },
  {
   "cell_type": "code",
   "execution_count": 8,
   "metadata": {},
   "outputs": [],
   "source": [
    "# plotting function\n",
    "def plot_results(results_df):\n",
    "    # Calculate mean Tp by condition\n",
    "    mean_tp_by_subj = results_df.groupby(['Subject', 'Cond', 'Ts'])['Tp'].mean().reset_index()\n",
    "    mean_tp = mean_tp_by_subj.groupby(['Cond', 'Ts'])['Tp'].mean().reset_index()\n",
    "\n",
    "    yrange = np.multiply((min(mean_tp['Ts']), max(mean_tp['Ts'])), [0.95, 1.05])\n",
    "\n",
    "    # Subset data for plotting\n",
    "\n",
    "    cond1 = mean_tp.loc[mean_tp['Cond'] == 1]\n",
    "    cond2 = mean_tp.loc[mean_tp['Cond'] == 2]\n",
    "    cond3 = mean_tp.loc[mean_tp['Cond'] == 3]\n",
    "\n",
    "    # Add jitter noise\n",
    "    jitter = results_df.copy()\n",
    "    jitter['Ts'] = jitter['Ts'] + np.random.uniform(-0.005, 0.005, len(results_df))\n",
    "    cond1_jitter = jitter.loc[jitter['Cond'] == 1]\n",
    "    cond2_jitter = jitter.loc[jitter['Cond'] == 2]\n",
    "    cond3_jitter = jitter.loc[jitter['Cond'] == 3]\n",
    "\n",
    "    # Make plot\n",
    "    f, ax = plt.subplots(figsize = (6,6))\n",
    "\n",
    "    ax.set(xlim = yrange, ylim = yrange)\n",
    "    f.gca().set_aspect('equal', adjustable = 'box')\n",
    "\n",
    "    ax.set_xlabel('Sample interval (ms)')\n",
    "    ax.set_ylabel('Production time (ms)')\n",
    "\n",
    "    ax.plot(yrange, yrange, linestyle = '--', color ='gray')\n",
    "\n",
    "#     ax.scatter(cond1_jitter['Ts'], cond1_jitter['Tp'], marker = '.', color = 'black', alpha = 0.025, label = None)\n",
    "#     ax.scatter(cond2_jitter['Ts'], cond2_jitter['Tp'], marker = '.', color = 'brown', alpha = 0.025, label = None)\n",
    "#     ax.scatter(cond3_jitter['Ts'], cond3_jitter['Tp'], marker = '.', color = 'red', alpha = 0.025, label = None)\n",
    "\n",
    "    ax.plot(cond1['Ts'], cond1['Tp'], color = 'black', marker = 'o', label = \"short\")\n",
    "    ax.plot(cond2['Ts'], cond2['Tp'], color = 'brown', marker = 'o', label = \"intermediate\")\n",
    "    ax.plot(cond3['Ts'], cond3['Tp'], color = 'red', marker = 'o', label = \"long\")\n",
    "    plt.title(\"Time reproduction in different temporal contexts\")\n",
    "    ax.legend(title = 'Prior condition', loc = 4)"
   ]
  },
  {
   "cell_type": "code",
   "execution_count": 9,
   "metadata": {
    "scrolled": true
   },
   "outputs": [],
   "source": [
    "# Running experiment for all three durations and forming the plots\n",
    "results_df = pd.DataFrame(columns=['Subject', 'Ts', 'Tp', 'Cond'])\n",
    "all_results = experiment(num_subjects=num_subjects, num_trials=num_trials, dur_times=short_ts, experiment_type=1)\n",
    "results_df = results_df.append(all_results)\n",
    "all_results = experiment(num_subjects=num_subjects, num_trials=num_trials, dur_times=med_ts, experiment_type=2)\n",
    "results_df = results_df.append(all_results)\n",
    "all_results = experiment(num_subjects=num_subjects, num_trials=num_trials, dur_times=long_ts, experiment_type=3)\n",
    "results_df = results_df.append(all_results)"
   ]
  },
  {
   "cell_type": "code",
   "execution_count": 10,
   "metadata": {
    "scrolled": false
   },
   "outputs": [
    {
     "data": {
      "image/png": "[encoded data removed]",
      "text/plain": [
       "<Figure size 432x432 with 1 Axes>"
      ]
     },
     "metadata": {
      "needs_background": "light"
     },
     "output_type": "display_data"
    }
   ],
   "source": [
    "# plot results\n",
    "plot_results(results_df)"
   ]
  },
  {
   "cell_type": "code",
   "execution_count": null,
   "metadata": {},
   "outputs": [],
   "source": []
  }
 ],
 "metadata": {
  "kernelspec": {
   "display_name": "Python 3",
   "language": "python",
   "name": "python3"
  },
  "language_info": {
   "codemirror_mode": {
    "name": "ipython",
    "version": 3
   },
   "file_extension": ".py",
   "mimetype": "text/x-python",
   "name": "python",
   "nbconvert_exporter": "python",
   "pygments_lexer": "ipython3",
   "version": "3.8.0"
  }
 },
 "nbformat": 4,
 "nbformat_minor": 2
}
