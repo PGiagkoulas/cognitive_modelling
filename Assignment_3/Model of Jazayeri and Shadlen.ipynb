{
 "cells": [
  {
   "cell_type": "code",
   "execution_count": 1,
   "metadata": {},
   "outputs": [],
   "source": [
    "from model import Model\n",
    "from dmchunk import Chunk\n",
    "import math\n",
    "import statistics\n",
    "import random\n",
    "import pandas as pd\n",
    "import numpy as np\n",
    "import matplotlib.pyplot as plt"
   ]
  },
  {
   "cell_type": "code",
   "execution_count": 2,
   "metadata": {},
   "outputs": [
    {
     "name": "stdout",
     "output_type": "stream",
     "text": [
      "- Short durations are: \n",
      "[0.49409, 0.52938, 0.56467, 0.59996, 0.6352599999999999, 0.67055, 0.70584, 0.74113, 0.77642, 0.81172, 0.84701]\n",
      "- Medium durations are: \n",
      "[0.67055, 0.70584, 0.74113, 0.77642, 0.81172, 0.84701, 0.8823, 0.91759, 0.95288, 0.98818, 1.0235]\n",
      "- Long durations are: \n",
      "[0.84701, 0.8823, 0.91759, 0.95288, 0.98818, 1.0235, 1.0588, 1.0940999999999999, 1.1293, 1.1645999999999999, 1.1999000000000002]\n"
     ]
    }
   ],
   "source": [
    "# read data to get experiment intervals\n",
    "dat = pd.read_csv(\"dataJS.csv\")\n",
    "# get all discrete values and convert them to seconds (easier for model time keeping!)\n",
    "sorted_discrete_ts = [time_in_ms/1000 for time_in_ms in sorted(dat.Ts.unique())]\n",
    "# split into short, medium and long intervals\n",
    "short_ts = sorted_discrete_ts[:11]\n",
    "print(\"- Short durations are: \\n{0}\".format(short_ts))\n",
    "med_ts = sorted_discrete_ts[5:16]\n",
    "print(\"- Medium durations are: \\n{0}\".format(med_ts))\n",
    "long_ts = sorted_discrete_ts[-11:]\n",
    "print(\"- Long durations are: \\n{0}\".format(long_ts))"
   ]
  },
  {
   "cell_type": "code",
   "execution_count": 31,
   "metadata": {},
   "outputs": [],
   "source": [
    "# return sampled time from the given discrete intervals\n",
    "def sample_time(dur_times):\n",
    "    t = random.randrange(len(dur_times))\n",
    "    return dur_times[t]\n",
    "\n",
    "# helper to add noise \n",
    "def noise(s):\n",
    "#     rand = random.uniform(0.666,0.999)\n",
    "#     rand = random.uniform(0.333,0.666)\n",
    "    rand = random.uniform(0.001,0.333)\n",
    "    return s * math.log((1 - rand)/rand)\n",
    "\n",
    "# transition from time to pulses (storing)\n",
    "def time_to_pulses(time, t_0 = 0.011, a = 1.1, b = 0.015, add_noise = True):\n",
    "    pulses = 0\n",
    "    pulse_duration = t_0\n",
    "    while time >= pulse_duration:\n",
    "        time = time - pulse_duration\n",
    "        pulses = pulses + 1\n",
    "        pulse_duration = a * pulse_duration + add_noise * noise(b * a * pulse_duration)\n",
    "    return pulses\n",
    "\n",
    "# transition from pulses to time (reproduction)\n",
    "def pulses_to_time(pulses, t_0 = 0.011, a = 1.1, b = 0.015, add_noise = True):\n",
    "    time = 0\n",
    "    pulse_duration = t_0\n",
    "    while pulses > 0:\n",
    "        time = time + pulse_duration\n",
    "        pulses = pulses - 1\n",
    "        pulse_duration = a * pulse_duration + add_noise * noise(b * a * pulse_duration)\n",
    "    return time"
   ]
  },
  {
   "cell_type": "code",
   "execution_count": 4,
   "metadata": {},
   "outputs": [],
   "source": [
    "# alternative scenario in case of failed retrieval\n",
    "def default_case(ts):\n",
    "    # choose from normal distribution with mu=ts and sigma=0.25*ts \n",
    "    return np.random.normal(ts, ts*0.25, 1)"
   ]
  },
  {
   "cell_type": "code",
   "execution_count": 5,
   "metadata": {},
   "outputs": [],
   "source": [
    "# one trial of an experiment\n",
    "def experiment_trial(my_model, ts, trial):\n",
    "    # transform to pulses with added noise\n",
    "    tm_pulses = time_to_pulses(ts)\n",
    "    # store perceived pulses\n",
    "    chunk = Chunk(name=\"memory\"+str(trial), slots={\"type\": \"perception\", \"perceived_pulses\": tm_pulses})\n",
    "    my_model.add_encounter(chunk)\n",
    "    my_model.time += 1.6  # standard time for human response/experiment delays etc. in seconds\n",
    "    # retrieve with blended retrieval\n",
    "    blend_pattern = Chunk(name=\"blend_pattern\", slots={\"type\": \"perception\"})\n",
    "    blended_retrieval, latency = my_model.retrieve_blended_trace(blend_pattern, \"perceived_pulses\")\n",
    "    # check for failed retieval\n",
    "    if blended_retrieval == None:\n",
    "        print(\"*** FAILED RETRIEVAL ***\")\n",
    "        blended_retrieval = default_case(ts)\n",
    "    my_model.time += latency  # increment time by latency\n",
    "    # convert retrieved number of pulses back to time\n",
    "    tp = pulses_to_time(blended_retrieval)\n",
    "    # return reproduced time\n",
    "#     print(\">> Initial: {0} || Pulses: {1} || Reproduced: {2}\".format(ts, tm_pulses, tp))\n",
    "    return tp"
   ]
  },
  {
   "cell_type": "code",
   "execution_count": 6,
   "metadata": {},
   "outputs": [],
   "source": [
    "# an experiment run given the number of test subjects, number of trials and the durations of interest\n",
    "def experiment(num_subjects, num_trials, dur_times):\n",
    "    all_ts = []  # all the presented times\n",
    "    all_tp = []  # all the reproduced times\n",
    "    # go over all subjects\n",
    "    for subject in range(num_subjects):\n",
    "        my_model = Model()  # initialize model for each subject\n",
    "        # complete the number of trials for each\n",
    "        for trial in range(num_trials):\n",
    "            # uniformly random shown time\n",
    "            ts = sample_time(dur_times)\n",
    "            # reproduced time\n",
    "            tp = experiment_trial(my_model, ts, trial)\n",
    "            # store the values\n",
    "            all_ts.append(ts)\n",
    "            all_tp.append(tp)\n",
    "    return all_ts, all_tp"
   ]
  },
  {
   "cell_type": "code",
   "execution_count": 7,
   "metadata": {},
   "outputs": [],
   "source": [
    "# perpares data for ploting by averages and variances per discrete interval\n",
    "def prepare_plot_data(dur_times, all_ts, all_tp):\n",
    "    print(dur_times)\n",
    "    all_means = []  # to store all mean tps of given dur_times\n",
    "    # loop over every duration of the experiment\n",
    "    for time in dur_times:\n",
    "        indices = [i for i, x in enumerate(all_ts) if x == time]  # get indices in ts\n",
    "        all_time_reproductions = [all_tp[i] for i in indices]  # retrieve respective reproduced time\n",
    "        all_means.append(statistics.mean(all_time_reproductions))  # calculate & store mean\n",
    "    return all_means"
   ]
  },
  {
   "cell_type": "code",
   "execution_count": 8,
   "metadata": {},
   "outputs": [],
   "source": [
    "# plotting function\n",
    "def plot_results(times_dict):\n",
    "    short_means = prepare_plot_data(short_ts, times_dict['ts_short'][20:], times_dict['tp_short'][20:])\n",
    "    med_means = prepare_plot_data(med_ts, times_dict['ts_med'][20:], times_dict['tp_med'][20:])\n",
    "    long_means = prepare_plot_data(long_ts, times_dict['ts_long'][20:], times_dict['tp_long'][20:])\n",
    "    plt.figure()\n",
    "    plt.plot([min(short_ts), min(short_ts)], [max(long_ts), max(long_ts)], 'r')\n",
    "    plt.plot(short_ts, short_means, 'bo')\n",
    "    plt.plot(med_ts, med_means, 'yo')\n",
    "    plt.plot(long_ts, long_means, 'ro')\n",
    "#     plt.plot(times_dict['ts_short'], times_dict['tp_short'], 'bo')\n",
    "#     plt.plot(times_dict['ts_med'], times_dict['tp_med'], 'yo')\n",
    "#     plt.plot(times_dict['ts_long'], times_dict['tp_long'], 'ro')\n",
    "    \n",
    "    plt.xlabel('Sample Interval (s)')\n",
    "    plt.ylabel('Production time (s)')"
   ]
  },
  {
   "cell_type": "code",
   "execution_count": 16,
   "metadata": {},
   "outputs": [],
   "source": [
    "# Running experiment for all three durations and forming the plots\n",
    "all_ts_short, all_tp_short = experiment(num_subjects=5, num_trials=500, dur_times=short_ts)\n",
    "all_ts_med, all_tp_med = experiment(num_subjects=5, num_trials=500, dur_times=med_ts)\n",
    "all_ts_long, all_tp_long = experiment(num_subjects=5, num_trials=500, dur_times=long_ts)\n",
    "# plot responses after all subjects and trials are complete\n",
    "all_times_dict = {\"ts_short\": all_ts_short, \"tp_short\":all_tp_short,\n",
    "                  \"ts_med\": all_ts_med, \"tp_med\":all_tp_med,\n",
    "                  \"ts_long\": all_ts_long, \"tp_long\":all_tp_long}"
   ]
  },
  {
   "cell_type": "code",
   "execution_count": 17,
   "metadata": {},
   "outputs": [
    {
     "name": "stdout",
     "output_type": "stream",
     "text": [
      "[0.49409, 0.52938, 0.56467, 0.59996, 0.6352599999999999, 0.67055, 0.70584, 0.74113, 0.77642, 0.81172, 0.84701]\n",
      "[0.67055, 0.70584, 0.74113, 0.77642, 0.81172, 0.84701, 0.8823, 0.91759, 0.95288, 0.98818, 1.0235]\n",
      "[0.84701, 0.8823, 0.91759, 0.95288, 0.98818, 1.0235, 1.0588, 1.0940999999999999, 1.1293, 1.1645999999999999, 1.1999000000000002]\n"
     ]
    },
    {
     "data": {
      "image/png": "[encoded data removed]",
      "text/plain": [
       "<Figure size 432x288 with 1 Axes>"
      ]
     },
     "metadata": {
      "needs_background": "light"
     },
     "output_type": "display_data"
    }
   ],
   "source": [
    "plot_results(all_times_dict)"
   ]
  },
  {
   "cell_type": "code",
   "execution_count": 24,
   "metadata": {},
   "outputs": [],
   "source": [
    "all_ts_short, all_tp_short = experiment(num_subjects=5, num_trials=500, dur_times=short_ts)"
   ]
  },
  {
   "cell_type": "code",
   "execution_count": 30,
   "metadata": {},
   "outputs": [],
   "source": [
    "all_ts_med, all_tp_med = experiment(num_subjects=5, num_trials=500, dur_times=med_ts)"
   ]
  },
  {
   "cell_type": "code",
   "execution_count": 32,
   "metadata": {},
   "outputs": [],
   "source": [
    "all_ts_long, all_tp_long = experiment(num_subjects=5, num_trials=500, dur_times=long_ts)"
   ]
  },
  {
   "cell_type": "code",
   "execution_count": 33,
   "metadata": {},
   "outputs": [
    {
     "name": "stdout",
     "output_type": "stream",
     "text": [
      "[0.49409, 0.52938, 0.56467, 0.59996, 0.6352599999999999, 0.67055, 0.70584, 0.74113, 0.77642, 0.81172, 0.84701]\n",
      "[0.67055, 0.70584, 0.74113, 0.77642, 0.81172, 0.84701, 0.8823, 0.91759, 0.95288, 0.98818, 1.0235]\n",
      "[0.84701, 0.8823, 0.91759, 0.95288, 0.98818, 1.0235, 1.0588, 1.0940999999999999, 1.1293, 1.1645999999999999, 1.1999000000000002]\n"
     ]
    },
    {
     "data": {
      "image/png": "[encoded data removed]",
      "text/plain": [
       "<Figure size 432x288 with 1 Axes>"
      ]
     },
     "metadata": {
      "needs_background": "light"
     },
     "output_type": "display_data"
    }
   ],
   "source": [
    "all_times_dict = {\"ts_short\": all_ts_short, \"tp_short\":all_tp_short,\n",
    "                  \"ts_med\": all_ts_med, \"tp_med\":all_tp_med,\n",
    "                  \"ts_long\": all_ts_long, \"tp_long\":all_tp_long}\n",
    "plot_results(all_times_dict)"
   ]
  },
  {
   "cell_type": "code",
   "execution_count": null,
   "metadata": {},
   "outputs": [],
   "source": []
  }
 ],
 "metadata": {
  "kernelspec": {
   "display_name": "Python 3",
   "language": "python",
   "name": "python3"
  },
  "language_info": {
   "codemirror_mode": {
    "name": "ipython",
    "version": 3
   },
   "file_extension": ".py",
   "mimetype": "text/x-python",
   "name": "python",
   "nbconvert_exporter": "python",
   "pygments_lexer": "ipython3",
   "version": "3.8.0"
  }
 },
 "nbformat": 4,
 "nbformat_minor": 2
}
