{
 "cells": [
  {
   "cell_type": "code",
   "execution_count": 69,
   "metadata": {},
   "outputs": [],
   "source": [
    "from model import Model\n",
    "from dmchunk import Chunk\n",
    "import math\n",
    "import random\n",
    "import pandas as pd\n",
    "import numpy as np\n",
    "import matplotlib.pyplot as plt"
   ]
  },
  {
   "cell_type": "code",
   "execution_count": 58,
   "metadata": {},
   "outputs": [
    {
     "name": "stdout",
     "output_type": "stream",
     "text": [
      "21\n",
      "[494.09, 529.38, 564.67, 599.96, 635.26, 670.55, 705.84, 741.13, 776.42, 811.72, 847.01]\n",
      "[670.55, 705.84, 741.13, 776.42, 811.72, 847.01, 882.3, 917.59, 952.88, 988.18, 1023.5]\n",
      "[847.01, 882.3, 917.59, 952.88, 988.18, 1023.5, 1058.8, 1094.1, 1129.3, 1164.6, 1199.9]\n"
     ]
    }
   ],
   "source": [
    "# read data to get experiment intervals\n",
    "dat = pd.read_csv(\"dataJS.csv\")\n",
    "sorted_discrete_ts = sorted(dat.Ts.unique())\n",
    "print(len(sorted_discrete_ts))\n",
    "short_ts = sorted_discrete_ts[:11]\n",
    "print((short_ts))\n",
    "med_ts = sorted_discrete_ts[5:16]\n",
    "print((med_ts))\n",
    "long_ts = sorted_discrete_ts[-11:]\n",
    "print((long_ts))"
   ]
  },
  {
   "cell_type": "code",
   "execution_count": 55,
   "metadata": {},
   "outputs": [],
   "source": [
    "# helper to add noise \n",
    "def noise(s):\n",
    "    rand = random.uniform(0.001,0.999)\n",
    "    return s * math.log((1 - rand)/rand)\n",
    "\n",
    "# transition from time to pulses (storing)\n",
    "def time_to_pulses(time, t_0 = 0.011, a = 1.1, b = 0.015, add_noise = True):\n",
    "    pulses = 0\n",
    "    pulse_duration = t_0\n",
    "    while time >= pulse_duration:\n",
    "        time = time - pulse_duration\n",
    "        pulses = pulses + 1\n",
    "        pulse_duration = a * pulse_duration + add_noise * noise(b * a * pulse_duration)\n",
    "    return pulses\n",
    "\n",
    "# transition from pulses to time (reproduction)\n",
    "def pulses_to_time(pulses, t_0 = 0.011, a = 1.1, b = 0.015, add_noise = True):\n",
    "    time = 0\n",
    "    pulse_duration = t_0\n",
    "    while pulses > 0:\n",
    "        time = time + pulse_duration\n",
    "        pulses = pulses - 1\n",
    "        pulse_duration = a * pulse_duration + add_noise * noise(b * a * pulse_duration)\n",
    "    return time"
   ]
  },
  {
   "cell_type": "code",
   "execution_count": 72,
   "metadata": {},
   "outputs": [],
   "source": [
    "# return sampled time from the given discrete intervals\n",
    "def sample_time(dur_times):\n",
    "    t = random.randrange(len(dur_times)-1)\n",
    "    return dur_times[t]"
   ]
  },
  {
   "cell_type": "code",
   "execution_count": 85,
   "metadata": {},
   "outputs": [],
   "source": [
    "def experiment_trial(modelerino, ts, trial):\n",
    "    # transform to pulses with added noise\n",
    "    tm_pulses = time_to_pulses(ts)\n",
    "    # store perceived pulses\n",
    "    chunk = Chunk(name=\"memory\"+trial, slots={\"perceived_pulses\": tm_pulses})\n",
    "    modelerino.add_encounter(chunk)\n",
    "    modelerino.time += 1600  # milliseconds!\n",
    "    # retrieve\n",
    "    # blending retieval!\n",
    "    tp = pulses_to_time(tm_pulses)\n",
    "    # keep reproduced time / return value\n",
    "    return tp"
   ]
  },
  {
   "cell_type": "code",
   "execution_count": 86,
   "metadata": {},
   "outputs": [],
   "source": [
    "def experiment(dur_times):\n",
    "    num_subjects = 1  # number of test subjects\n",
    "    num_trials = 100  # number of trials\n",
    "    all_ts = []  # all the presented times\n",
    "    all_tp = []  # all the reproduced times\n",
    "    # go over all subjects\n",
    "    for subject in range(num_subjects):\n",
    "        modelerino = Model()  # initialize model for each subject\n",
    "        # complete the number of trials for each\n",
    "        for trial in range(num_trials):\n",
    "            # uniformly random shown time\n",
    "            ts = sample_time(dur_times)\n",
    "            # reproduced time\n",
    "            tp = experiment_trial(modelerino, ts, trial)\n",
    "            # store the values\n",
    "            all_ts.append(ts)\n",
    "            all_tp.append(tp)\n",
    "        print(all_ts)\n",
    "        print(all_tp)\n",
    "    plt.plot(all_ts, all_tp, 'bo')"
   ]
  },
  {
   "cell_type": "code",
   "execution_count": 88,
   "metadata": {},
   "outputs": [
    {
     "name": "stdout",
     "output_type": "stream",
     "text": [
      "[635.26, 741.13, 741.13, 776.42, 670.55, 811.72, 564.67, 599.96, 564.67, 670.55, 705.84, 494.09, 494.09, 635.26, 670.55, 741.13, 776.42, 776.42, 599.96, 635.26, 564.67, 635.26, 811.72, 776.42, 564.67, 811.72, 776.42, 494.09, 776.42, 564.67, 564.67, 564.67, 776.42, 599.96, 741.13, 776.42, 635.26, 670.55, 741.13, 776.42, 741.13, 529.38, 564.67, 705.84, 529.38, 705.84, 705.84, 705.84, 494.09, 811.72, 564.67, 494.09, 811.72, 494.09, 811.72, 741.13, 599.96, 811.72, 635.26, 811.72, 705.84, 494.09, 529.38, 670.55, 741.13, 529.38, 776.42, 705.84, 635.26, 811.72, 564.67, 529.38, 529.38, 635.26, 670.55, 564.67, 705.84, 564.67, 741.13, 564.67, 494.09, 741.13, 599.96, 635.26, 635.26, 705.84, 529.38, 705.84, 635.26, 494.09, 635.26, 635.26, 811.72, 564.67, 776.42, 741.13, 635.26, 776.42, 705.84, 635.26]\n",
      "[1279.0320637481661, 614.3459636072608, 927.3396156165342, 653.4642921401319, 732.8971730041529, 786.0826130191375, 315.7288814352819, 330.52983155677134, 604.8345615389001, 407.859664334029, 952.6739328668539, 407.6535620216186, 525.9784399751862, 302.17011379281007, 654.4926055071605, 627.8367853423412, 593.3664121041143, 1348.2632825702417, 749.4564128279418, 529.4176289563104, 429.6591128067739, 530.9431754735391, 1101.830823767752, 407.80735761115585, 361.5071855830177, 1065.7614602140143, 931.4279227939456, 662.7088419795683, 1199.7492101479663, 737.4300186915202, 745.2704930959139, 414.70422074171506, 994.2316380271816, 403.9083353271234, 833.6678731646022, 1100.0884146611709, 478.99232051869507, 784.8709788373144, 657.0295097755898, 591.0319324015138, 655.5571643572927, 724.4197224876818, 247.36591339565533, 474.794373456246, 345.06745095852136, 821.5432394251504, 799.2478848947277, 527.2157845476146, 873.4633501610473, 819.9792060425186, 300.4172708721018, 664.760633047483, 686.3245870615455, 517.0648438460577, 1016.9607330113755, 980.998462532614, 684.3857680030925, 678.3331822520312, 488.1798211800143, 470.96527940576016, 813.6048426902668, 305.98554914754624, 403.6650320019778, 637.2403814835842, 754.4005475042821, 506.8904529989562, 618.539361721742, 1050.841731632495, 506.6012623023331, 726.0617292407017, 301.07926353631177, 420.59765984934563, 619.1151557495484, 521.9761081171212, 740.1624672935203, 681.554048413807, 426.03572259688303, 597.1446622583916, 666.8027524477114, 1388.5532005494924, 515.5546332354415, 475.05230190673177, 756.9787152448565, 915.9107004552993, 558.6823923245712, 1241.4727906391574, 685.6199005478345, 550.1504095176929, 642.9412480263835, 536.4521161856417, 686.2575373717176, 391.87739130607986, 442.4727265961712, 722.5795911673221, 602.6511453301428, 848.400943578207, 1015.6477406868494, 597.0055762657837, 876.3146878591873, 432.5635972835067]\n"
     ]
    },
    {
     "data": {
      "image/png": "[encoded data removed]",
      "text/plain": [
       "<Figure size 432x288 with 1 Axes>"
      ]
     },
     "metadata": {
      "needs_background": "light"
     },
     "output_type": "display_data"
    }
   ],
   "source": [
    "experiment(short_ts)"
   ]
  },
  {
   "cell_type": "code",
   "execution_count": null,
   "metadata": {},
   "outputs": [],
   "source": []
  }
 ],
 "metadata": {
  "kernelspec": {
   "display_name": "Python 3",
   "language": "python",
   "name": "python3"
  },
  "language_info": {
   "codemirror_mode": {
    "name": "ipython",
    "version": 3
   },
   "file_extension": ".py",
   "mimetype": "text/x-python",
   "name": "python",
   "nbconvert_exporter": "python",
   "pygments_lexer": "ipython3",
   "version": "3.8.0"
  }
 },
 "nbformat": 4,
 "nbformat_minor": 2
}
